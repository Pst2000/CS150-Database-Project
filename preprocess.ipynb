{
 "cells": [
  {
   "cell_type": "code",
   "execution_count": 2,
   "metadata": {},
   "outputs": [],
   "source": [
    "import pandas as pd\n",
    "import numpy as np"
   ]
  },
  {
   "cell_type": "code",
   "execution_count": 3,
   "metadata": {},
   "outputs": [],
   "source": [
    "# Get the data:\n",
    "train_filepath = 'data/train.csv'\n",
    "traindata = pd.read_table(train_filepath)"
   ]
  },
  {
   "cell_type": "code",
   "execution_count": 4,
   "metadata": {},
   "outputs": [],
   "source": [
    "from sklearn.utils import shuffle\n",
    "traindata = shuffle(traindata)"
   ]
  },
  {
   "cell_type": "code",
   "execution_count": 5,
   "metadata": {},
   "outputs": [
    {
     "data": {
      "text/html": [
       "<div>\n",
       "<style scoped>\n",
       "    .dataframe tbody tr th:only-of-type {\n",
       "        vertical-align: middle;\n",
       "    }\n",
       "\n",
       "    .dataframe tbody tr th {\n",
       "        vertical-align: top;\n",
       "    }\n",
       "\n",
       "    .dataframe thead th {\n",
       "        text-align: right;\n",
       "    }\n",
       "</style>\n",
       "<table border=\"1\" class=\"dataframe\">\n",
       "  <thead>\n",
       "    <tr style=\"text-align: right;\">\n",
       "      <th></th>\n",
       "      <th>Row</th>\n",
       "      <th>Anon Student Id</th>\n",
       "      <th>Problem Hierarchy</th>\n",
       "      <th>Problem Name</th>\n",
       "      <th>Problem View</th>\n",
       "      <th>Step Name</th>\n",
       "      <th>Step Start Time</th>\n",
       "      <th>First Transaction Time</th>\n",
       "      <th>Correct Transaction Time</th>\n",
       "      <th>Step End Time</th>\n",
       "      <th>Step Duration (sec)</th>\n",
       "      <th>Correct Step Duration (sec)</th>\n",
       "      <th>Error Step Duration (sec)</th>\n",
       "      <th>Correct First Attempt</th>\n",
       "      <th>Incorrects</th>\n",
       "      <th>Hints</th>\n",
       "      <th>Corrects</th>\n",
       "      <th>KC(Default)</th>\n",
       "      <th>Opportunity(Default)</th>\n",
       "    </tr>\n",
       "  </thead>\n",
       "  <tbody>\n",
       "    <tr>\n",
       "      <td>162940</td>\n",
       "      <td>777985</td>\n",
       "      <td>QS4cvQ8w0o</td>\n",
       "      <td>Unit ES_04, Section ES_04-11</td>\n",
       "      <td>EG58</td>\n",
       "      <td>2</td>\n",
       "      <td>9 = 10y-10-8y</td>\n",
       "      <td>2006-02-28 14:37:27.0</td>\n",
       "      <td>2006-02-28 14:37:31.0</td>\n",
       "      <td>2006-02-28 14:37:31.0</td>\n",
       "      <td>2006-02-28 14:37:31.0</td>\n",
       "      <td>4.0</td>\n",
       "      <td>4.0</td>\n",
       "      <td>NaN</td>\n",
       "      <td>1</td>\n",
       "      <td>0</td>\n",
       "      <td>0</td>\n",
       "      <td>1</td>\n",
       "      <td>[SkillRule: Consolidate vars with coeff; CLT]</td>\n",
       "      <td>109</td>\n",
       "    </tr>\n",
       "    <tr>\n",
       "      <td>183014</td>\n",
       "      <td>874362</td>\n",
       "      <td>m9a501e1MM</td>\n",
       "      <td>Unit ES_05, Section ES_05-6</td>\n",
       "      <td>EG60</td>\n",
       "      <td>3</td>\n",
       "      <td>6x+14 = -7x</td>\n",
       "      <td>2006-03-01 10:49:20.0</td>\n",
       "      <td>2006-03-01 10:49:27.0</td>\n",
       "      <td>2006-03-01 10:49:27.0</td>\n",
       "      <td>2006-03-01 10:49:27.0</td>\n",
       "      <td>7.0</td>\n",
       "      <td>7.0</td>\n",
       "      <td>NaN</td>\n",
       "      <td>1</td>\n",
       "      <td>0</td>\n",
       "      <td>0</td>\n",
       "      <td>1</td>\n",
       "      <td>[SkillRule: Consolidate vars, any; {Combine va...</td>\n",
       "      <td>18</td>\n",
       "    </tr>\n",
       "    <tr>\n",
       "      <td>38493</td>\n",
       "      <td>197048</td>\n",
       "      <td>f4fNYL73Z2</td>\n",
       "      <td>Unit ES_02, Section ES_02-4</td>\n",
       "      <td>EG34</td>\n",
       "      <td>1</td>\n",
       "      <td>FinalAnswer</td>\n",
       "      <td>2006-03-03 08:26:50.0</td>\n",
       "      <td>2006-03-03 08:27:08.0</td>\n",
       "      <td>2006-03-03 08:27:08.0</td>\n",
       "      <td>2006-03-03 08:27:25.0</td>\n",
       "      <td>30.0</td>\n",
       "      <td>30.0</td>\n",
       "      <td>NaN</td>\n",
       "      <td>1</td>\n",
       "      <td>0</td>\n",
       "      <td>0</td>\n",
       "      <td>2</td>\n",
       "      <td>perform-mult-sp~~combine-like-terms-whole-sp</td>\n",
       "      <td>25~~17</td>\n",
       "    </tr>\n",
       "    <tr>\n",
       "      <td>228268</td>\n",
       "      <td>1055583</td>\n",
       "      <td>5ZR29q8c56</td>\n",
       "      <td>Unit CTA1_08, Section CTA1_08-2</td>\n",
       "      <td>DEMO_8</td>\n",
       "      <td>1</td>\n",
       "      <td>Formula 1 Coeff 0</td>\n",
       "      <td>2006-04-25 10:00:03.0</td>\n",
       "      <td>2006-04-25 10:00:27.0</td>\n",
       "      <td>2006-04-25 10:00:27.0</td>\n",
       "      <td>2006-04-25 10:00:27.0</td>\n",
       "      <td>24.0</td>\n",
       "      <td>24.0</td>\n",
       "      <td>NaN</td>\n",
       "      <td>1</td>\n",
       "      <td>0</td>\n",
       "      <td>0</td>\n",
       "      <td>1</td>\n",
       "      <td>Setting the y-intercept</td>\n",
       "      <td>9</td>\n",
       "    </tr>\n",
       "    <tr>\n",
       "      <td>216069</td>\n",
       "      <td>1015510</td>\n",
       "      <td>rE6U5574qn</td>\n",
       "      <td>Unit ES_03, Section ES_03-8</td>\n",
       "      <td>LIT10A</td>\n",
       "      <td>1</td>\n",
       "      <td>b-g = 0</td>\n",
       "      <td>2006-03-20 09:17:33.0</td>\n",
       "      <td>2006-03-20 09:17:42.0</td>\n",
       "      <td>2006-03-20 09:17:42.0</td>\n",
       "      <td>2006-03-20 09:17:42.0</td>\n",
       "      <td>9.0</td>\n",
       "      <td>9.0</td>\n",
       "      <td>NaN</td>\n",
       "      <td>1</td>\n",
       "      <td>0</td>\n",
       "      <td>0</td>\n",
       "      <td>1</td>\n",
       "      <td>[SkillRule: Remove constant; {ax+b=c, positive...</td>\n",
       "      <td>31</td>\n",
       "    </tr>\n",
       "  </tbody>\n",
       "</table>\n",
       "</div>"
      ],
      "text/plain": [
       "            Row Anon Student Id                Problem Hierarchy Problem Name  \\\n",
       "162940   777985      QS4cvQ8w0o     Unit ES_04, Section ES_04-11         EG58   \n",
       "183014   874362      m9a501e1MM      Unit ES_05, Section ES_05-6         EG60   \n",
       "38493    197048      f4fNYL73Z2      Unit ES_02, Section ES_02-4         EG34   \n",
       "228268  1055583      5ZR29q8c56  Unit CTA1_08, Section CTA1_08-2       DEMO_8   \n",
       "216069  1015510      rE6U5574qn      Unit ES_03, Section ES_03-8       LIT10A   \n",
       "\n",
       "        Problem View          Step Name        Step Start Time  \\\n",
       "162940             2      9 = 10y-10-8y  2006-02-28 14:37:27.0   \n",
       "183014             3        6x+14 = -7x  2006-03-01 10:49:20.0   \n",
       "38493              1        FinalAnswer  2006-03-03 08:26:50.0   \n",
       "228268             1  Formula 1 Coeff 0  2006-04-25 10:00:03.0   \n",
       "216069             1            b-g = 0  2006-03-20 09:17:33.0   \n",
       "\n",
       "       First Transaction Time Correct Transaction Time          Step End Time  \\\n",
       "162940  2006-02-28 14:37:31.0    2006-02-28 14:37:31.0  2006-02-28 14:37:31.0   \n",
       "183014  2006-03-01 10:49:27.0    2006-03-01 10:49:27.0  2006-03-01 10:49:27.0   \n",
       "38493   2006-03-03 08:27:08.0    2006-03-03 08:27:08.0  2006-03-03 08:27:25.0   \n",
       "228268  2006-04-25 10:00:27.0    2006-04-25 10:00:27.0  2006-04-25 10:00:27.0   \n",
       "216069  2006-03-20 09:17:42.0    2006-03-20 09:17:42.0  2006-03-20 09:17:42.0   \n",
       "\n",
       "        Step Duration (sec)  Correct Step Duration (sec)  \\\n",
       "162940                  4.0                          4.0   \n",
       "183014                  7.0                          7.0   \n",
       "38493                  30.0                         30.0   \n",
       "228268                 24.0                         24.0   \n",
       "216069                  9.0                          9.0   \n",
       "\n",
       "        Error Step Duration (sec)  Correct First Attempt  Incorrects  Hints  \\\n",
       "162940                        NaN                      1           0      0   \n",
       "183014                        NaN                      1           0      0   \n",
       "38493                         NaN                      1           0      0   \n",
       "228268                        NaN                      1           0      0   \n",
       "216069                        NaN                      1           0      0   \n",
       "\n",
       "        Corrects                                        KC(Default)  \\\n",
       "162940         1      [SkillRule: Consolidate vars with coeff; CLT]   \n",
       "183014         1  [SkillRule: Consolidate vars, any; {Combine va...   \n",
       "38493          2       perform-mult-sp~~combine-like-terms-whole-sp   \n",
       "228268         1                            Setting the y-intercept   \n",
       "216069         1  [SkillRule: Remove constant; {ax+b=c, positive...   \n",
       "\n",
       "       Opportunity(Default)  \n",
       "162940                  109  \n",
       "183014                   18  \n",
       "38493                25~~17  \n",
       "228268                    9  \n",
       "216069                   31  "
      ]
     },
     "execution_count": 5,
     "metadata": {},
     "output_type": "execute_result"
    }
   ],
   "source": [
    "traindata.head()"
   ]
  },
  {
   "cell_type": "code",
   "execution_count": 6,
   "metadata": {},
   "outputs": [],
   "source": [
    "studentID = np.unique(traindata['Anon Student Id'])"
   ]
  },
  {
   "cell_type": "code",
   "execution_count": 7,
   "metadata": {},
   "outputs": [
    {
     "data": {
      "text/plain": [
       "'02i5jCrfQK'"
      ]
     },
     "execution_count": 7,
     "metadata": {},
     "output_type": "execute_result"
    }
   ],
   "source": [
    "studentID[0]"
   ]
  },
  {
   "cell_type": "code",
   "execution_count": 8,
   "metadata": {},
   "outputs": [],
   "source": [
    "split_KC = []\n",
    "for i, row in traindata.iterrows():\n",
    "    if not pd.isnull(row['KC(Default)']):\n",
    "        split_KC.extend(row['KC(Default)'].split(\"~~\"))"
   ]
  },
  {
   "cell_type": "code",
   "execution_count": 9,
   "metadata": {},
   "outputs": [],
   "source": [
    "split_KC = np.unique(split_KC)"
   ]
  },
  {
   "cell_type": "code",
   "execution_count": 10,
   "metadata": {},
   "outputs": [
    {
     "data": {
      "text/plain": [
       "110"
      ]
     },
     "execution_count": 10,
     "metadata": {},
     "output_type": "execute_result"
    }
   ],
   "source": [
    "len(split_KC)"
   ]
  },
  {
   "cell_type": "code",
   "execution_count": 11,
   "metadata": {},
   "outputs": [],
   "source": [
    "selected_data = []\n",
    "for _, row in traindata.iterrows():\n",
    "    _studentID = row['Anon Student Id']\n",
    "    _KC = row['KC(Default)']\n",
    "    _Opp = row['Opportunity(Default)']\n",
    "    _CFA = row['Correct First Attempt']\n",
    "    selected_data.append([_studentID, _KC, _Opp, _CFA])"
   ]
  },
  {
   "cell_type": "code",
   "execution_count": 12,
   "metadata": {},
   "outputs": [
    {
     "data": {
      "text/plain": [
       "[['QS4cvQ8w0o', '[SkillRule: Consolidate vars with coeff; CLT]', '109', 1],\n",
       " ['m9a501e1MM',\n",
       "  '[SkillRule: Consolidate vars, any; {Combine variables to right, sub; Combine variables to right, add; Combine variables to right, gen; Combine variables to right; Combine variables to left, add; Combine variables to left, sub; Combine variables to left, gen; ax+b=cx; ax+b=cx, move left; ax+b=cx+d, pos; ax+b=cx+d, neg; ax+b=cx+d, move right; ax+b=cx+d, move two; ax+b=cx+d, move two2; x+b=cx+d, pos; x+b=cx+d, neg; x+b=cx+d, move right; x+b=cx+d, move two; x+b=cx+d, move two2; ax+b=x+d, pos; ax+b=x+d, neg; ax+b=x+d, move right; ax+b=x+d, move two; ax+b=x+d, move two2; x+b=x+d, pos; x+b=x+d, neg; x+b=x+d, move right; x+b=x+d, move two; x+b=x+d, move two2}]',\n",
       "  '18',\n",
       "  1],\n",
       " ['f4fNYL73Z2', 'perform-mult-sp~~combine-like-terms-whole-sp', '25~~17', 1],\n",
       " ['5ZR29q8c56', 'Setting the y-intercept', '9', 1],\n",
       " ['rE6U5574qn',\n",
       "  '[SkillRule: Remove constant; {ax+b=c, positive; ax+b=c, negative; x+a=b, positive; x+a=b, negative; [var expr]+[const expr]=[const expr], positive; [var expr]+[const expr]=[const expr], negative; [var expr]+[const expr]=[const expr], all; Combine constants to right; Combine constants to left; a-x=b, positive; a/x+b=c, positive; a/x+b=c, negative}]',\n",
       "  '31',\n",
       "  1]]"
      ]
     },
     "execution_count": 12,
     "metadata": {},
     "output_type": "execute_result"
    }
   ],
   "source": [
    "selected_data[:5]"
   ]
  },
  {
   "cell_type": "code",
   "execution_count": 13,
   "metadata": {},
   "outputs": [],
   "source": [
    "numerical_data = []\n",
    "for data in selected_data:\n",
    "    __studentID = np.zeros(174)\n",
    "    __KC = np.zeros(110)\n",
    "    \n",
    "    if pd.isnull(data[2]):\n",
    "        __Opp = 0\n",
    "    else:\n",
    "        split_Opp = data[2].split(\"~~\")\n",
    "        _min = 1000000\n",
    "        for opp in split_Opp:\n",
    "            if int(opp) < _min:\n",
    "                _min = int(opp)\n",
    "        \n",
    "    for i in range(174):\n",
    "        # deal with SID\n",
    "        if data[0] == studentID[i]:\n",
    "            __studentID[i] = 1\n",
    "            \n",
    "        # deal with KC\n",
    "        if pd.isnull(data[1]):\n",
    "            continue\n",
    "        else:\n",
    "            __split_KC = []\n",
    "            __split_KC.extend(data[1].split(\"~~\"))\n",
    "            for item in __split_KC:\n",
    "                if i < 110 and item == split_KC[i]:\n",
    "                    __KC[i] = 1\n",
    "            \n",
    "    numerical_data.append([__studentID, __KC, _min])"
   ]
  },
  {
   "cell_type": "code",
   "execution_count": 14,
   "metadata": {},
   "outputs": [],
   "source": [
    "label = []\n",
    "for data in selected_data:\n",
    "    label.append(data[3])"
   ]
  },
  {
   "cell_type": "code",
   "execution_count": 15,
   "metadata": {},
   "outputs": [
    {
     "data": {
      "text/plain": [
       "[array([0., 0., 0., 0., 0., 0., 0., 0., 0., 0., 0., 0., 0., 0., 0., 0., 0.,\n",
       "        0., 0., 0., 0., 0., 0., 0., 0., 0., 0., 0., 0., 0., 0., 0., 0., 0.,\n",
       "        0., 0., 0., 0., 0., 0., 0., 0., 0., 0., 0., 0., 0., 0., 0., 0., 0.,\n",
       "        0., 0., 0., 0., 0., 0., 0., 0., 0., 0., 0., 0., 0., 0., 0., 0., 0.,\n",
       "        0., 0., 0., 0., 0., 0., 0., 0., 0., 0., 0., 0., 0., 0., 0., 1., 0.,\n",
       "        0., 0., 0., 0., 0., 0., 0., 0., 0., 0., 0., 0., 0., 0., 0., 0., 0.,\n",
       "        0., 0., 0., 0., 0., 0., 0., 0., 0., 0., 0., 0., 0., 0., 0., 0., 0.,\n",
       "        0., 0., 0., 0., 0., 0., 0., 0., 0., 0., 0., 0., 0., 0., 0., 0., 0.,\n",
       "        0., 0., 0., 0., 0., 0., 0., 0., 0., 0., 0., 0., 0., 0., 0., 0., 0.,\n",
       "        0., 0., 0., 0., 0., 0., 0., 0., 0., 0., 0., 0., 0., 0., 0., 0., 0.,\n",
       "        0., 0., 0., 0.]),\n",
       " array([0., 0., 0., 0., 0., 0., 0., 0., 0., 0., 0., 0., 0., 0., 0., 0., 0.,\n",
       "        0., 0., 0., 0., 0., 0., 0., 0., 0., 0., 0., 0., 0., 0., 0., 0., 0.,\n",
       "        0., 0., 0., 0., 0., 0., 0., 0., 0., 0., 0., 0., 0., 0., 0., 0., 0.,\n",
       "        0., 0., 0., 0., 0., 0., 0., 0., 0., 0., 0., 0., 0., 0., 0., 0., 0.,\n",
       "        0., 0., 0., 0., 1., 0., 0., 0., 0., 0., 0., 0., 0., 0., 0., 0., 0.,\n",
       "        0., 0., 0., 0., 0., 0., 0., 0., 0., 0., 0., 0., 0., 0., 0., 0., 0.,\n",
       "        0., 0., 0., 0., 0., 0., 0., 0.]),\n",
       " 109]"
      ]
     },
     "execution_count": 15,
     "metadata": {},
     "output_type": "execute_result"
    }
   ],
   "source": [
    "numerical_data[0]"
   ]
  },
  {
   "cell_type": "code",
   "execution_count": 16,
   "metadata": {},
   "outputs": [],
   "source": [
    "input_feat = []\n",
    "for data in numerical_data:\n",
    "    input_feat.append(np.hstack((data[0], data[1])))"
   ]
  },
  {
   "cell_type": "code",
   "execution_count": 17,
   "metadata": {},
   "outputs": [
    {
     "data": {
      "text/plain": [
       "232744"
      ]
     },
     "execution_count": 17,
     "metadata": {},
     "output_type": "execute_result"
    }
   ],
   "source": [
    "len(input_feat)"
   ]
  },
  {
   "cell_type": "code",
   "execution_count": 18,
   "metadata": {},
   "outputs": [],
   "source": [
    "train_feat = input_feat[:220000]\n",
    "val_feat = input_feat[220000:]\n",
    "train_label = label[:220000]\n",
    "val_label = label[220000:]"
   ]
  },
  {
   "cell_type": "code",
   "execution_count": 19,
   "metadata": {},
   "outputs": [],
   "source": [
    "np.save(\"train_feat_1\", train_feat)\n",
    "np.save(\"val_feat_1\", val_feat)\n",
    "np.save(\"train_label_1\", train_label)\n",
    "np.save(\"val_label_1\", val_label)"
   ]
  },
  {
   "cell_type": "code",
   "execution_count": null,
   "metadata": {},
   "outputs": [],
   "source": []
  }
 ],
 "metadata": {
  "kernelspec": {
   "display_name": "Python 3",
   "language": "python",
   "name": "python3"
  },
  "language_info": {
   "codemirror_mode": {
    "name": "ipython",
    "version": 3
   },
   "file_extension": ".py",
   "mimetype": "text/x-python",
   "name": "python",
   "nbconvert_exporter": "python",
   "pygments_lexer": "ipython3",
   "version": "3.7.4"
  }
 },
 "nbformat": 4,
 "nbformat_minor": 2
}
